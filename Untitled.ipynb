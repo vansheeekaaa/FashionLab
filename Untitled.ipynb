{
 "cells": [
  {
   "cell_type": "code",
   "execution_count": 53,
   "id": "9df5a69c-9883-41be-ad01-766c156312da",
   "metadata": {},
   "outputs": [],
   "source": [
    "import pandas as pd\n",
    "import requests\n",
    "from pygltflib import GLTF2\n",
    "from io import BytesIO\n",
    "import tempfile\n",
    "import numpy as np\n",
    "from PIL import Image\n",
    "import base64\n",
    "import cv2\n",
    "from skimage.metrics import structural_similarity as ssim"
   ]
  },
  {
   "cell_type": "code",
   "execution_count": 55,
   "id": "15d65875-9541-4c36-99eb-4b12c714a37a",
   "metadata": {},
   "outputs": [],
   "source": [
    "# Function to fetch the GLB file content\n",
    "def fetch_glb_content(url):\n",
    "    response = requests.get(url)\n",
    "    if response.status_code == 200:\n",
    "        return BytesIO(response.content)\n",
    "    else:\n",
    "        raise Exception(f\"Failed to fetch file: {response.status_code}\")"
   ]
  },
  {
   "cell_type": "code",
   "execution_count": 57,
   "id": "478bb26f-487b-4de4-9a78-a30c6f3a862a",
   "metadata": {},
   "outputs": [],
   "source": [
    "\n",
    "# Function to load and parse the GLB file from content\n",
    "def load_glb_from_content(content):\n",
    "    with tempfile.NamedTemporaryFile(delete=True, suffix=\".glb\") as temp_file:\n",
    "        temp_file.write(content.read())\n",
    "        temp_file.flush()\n",
    "        temp_file.seek(0)\n",
    "        gltf = GLTF2().load_binary(temp_file.name)\n",
    "    return gltf"
   ]
  },
  {
   "cell_type": "code",
   "execution_count": 59,
   "id": "9c287a50-d279-4356-b102-bb3fb368210b",
   "metadata": {},
   "outputs": [],
   "source": [
    "# Function to extract geometry from the GLB file\n",
    "def extract_geometry(gltf):\n",
    "    geometry = []\n",
    "    for mesh in gltf.meshes:\n",
    "        for primitive in mesh.primitives:\n",
    "            if primitive.attributes.POSITION is not None:\n",
    "                accessor = gltf.accessors[primitive.attributes.POSITION]\n",
    "                buffer_view = gltf.bufferViews[accessor.bufferView]\n",
    "                buffer = gltf.buffers[buffer_view.buffer]\n",
    "\n",
    "                # Read the buffer data\n",
    "                data = gltf.get_data_from_buffer_uri(buffer.uri)\n",
    "                \n",
    "                # Extract the specific range for positions\n",
    "                start = buffer_view.byteOffset\n",
    "                end = start + buffer_view.byteLength\n",
    "                positions_data = data[start:end]\n",
    "\n",
    "                # Interpret the positions data as an array of floats\n",
    "                positions = np.frombuffer(positions_data, dtype=np.float32)\n",
    "                geometry.extend(positions)\n",
    "    return geometry"
   ]
  },
  {
   "cell_type": "code",
   "execution_count": 61,
   "id": "7873f234-561f-4810-9e2e-f1929150365b",
   "metadata": {},
   "outputs": [],
   "source": [
    "\n",
    "# Function to extract textures and colors from the GLB file\n",
    "def extract_textures_and_colors(gltf):\n",
    "    textures = []\n",
    "    materials = []\n",
    "    for material in gltf.materials:\n",
    "        if material.pbrMetallicRoughness.baseColorTexture is not None:\n",
    "            textures.append(material.pbrMetallicRoughness.baseColorTexture.index)\n",
    "        if material.pbrMetallicRoughness.baseColorFactor is not None:\n",
    "            materials.append(material.pbrMetallicRoughness.baseColorFactor)\n",
    "    return textures, materials"
   ]
  },
  {
   "cell_type": "code",
   "execution_count": 63,
   "id": "791622d4-2c36-4af2-b2bb-3c1188ba8f5d",
   "metadata": {},
   "outputs": [],
   "source": [
    "\n",
    "# Function to decode base64 data URIs\n",
    "def decode_base64_data_uri(data_uri):\n",
    "    header, encoded = data_uri.split(\",\", 1)\n",
    "    data = base64.b64decode(encoded)\n",
    "    return data"
   ]
  },
  {
   "cell_type": "code",
   "execution_count": 65,
   "id": "15e54786-dd69-4441-805f-f08f44ee5e88",
   "metadata": {},
   "outputs": [],
   "source": [
    "\n",
    "# Function to save texture images\n",
    "def save_texture_images(gltf, desired_indices):\n",
    "    texture_images = []\n",
    "    for i in desired_indices:\n",
    "        if i < len(gltf.textures):\n",
    "            texture = gltf.textures[i]\n",
    "            image_index = texture.source\n",
    "            image = gltf.images[image_index]\n",
    "\n",
    "            if image.uri:\n",
    "                # Decode the base64 data URI\n",
    "                image_data = decode_base64_data_uri(image.uri)\n",
    "            else:\n",
    "                # Handle embedded binary data\n",
    "                buffer_view = gltf.bufferViews[image.bufferView]\n",
    "                buffer = gltf.buffers[buffer_view.buffer]\n",
    "                data = gltf.get_data_from_buffer_uri(buffer.uri)\n",
    "                start = buffer_view.byteOffset\n",
    "                end = start + buffer_view.byteLength\n",
    "                image_data = data[start:end]\n",
    "\n",
    "            # Save the image in memory\n",
    "            image = Image.open(BytesIO(image_data))\n",
    "            texture_images.append(np.array(image))\n",
    "    return texture_images"
   ]
  },
  {
   "cell_type": "code",
   "execution_count": 67,
   "id": "d8f232a6-16dd-4794-874a-7f40cdbcf77a",
   "metadata": {},
   "outputs": [],
   "source": [
    "\n",
    "# Function to fetch and convert images from URLs to numpy arrays\n",
    "def fetch_image_from_url(url):\n",
    "    response = requests.get(url)\n",
    "    if response.status_code == 200:\n",
    "        image = Image.open(BytesIO(response.content))\n",
    "        return np.array(image)\n",
    "    else:\n",
    "        raise Exception(f\"Failed to fetch image: {response.status_code}\")"
   ]
  },
  {
   "cell_type": "code",
   "execution_count": 69,
   "id": "c1bb012e-eeb0-403d-8dcb-37baa6ec1154",
   "metadata": {},
   "outputs": [],
   "source": [
    "\n",
    "# Function to compare two images and calculate similarity\n",
    "def compare_images(imageA, imageB):\n",
    "    # Convert the images to grayscale\n",
    "    imageA = cv2.cvtColor(imageA, cv2.COLOR_BGR2GRAY)\n",
    "    imageB = cv2.cvtColor(imageB, cv2.COLOR_BGR2GRAY)\n",
    "    # Resize images to the same size if needed\n",
    "    imageB = cv2.resize(imageB, (imageA.shape[1], imageA.shape[0]))\n",
    "    # Compute SSIM between two images\n",
    "    score, _ = ssim(imageA, imageB, full=True)\n",
    "    return score"
   ]
  },
  {
   "cell_type": "code",
   "execution_count": 71,
   "id": "cd7fc0b2-afd5-4cb9-91f3-4a688ae424c6",
   "metadata": {},
   "outputs": [],
   "source": [
    "\n",
    "# Example usage\n",
    "glb_url = \"https://models.readyplayer.me/66a54feb8409082e90051729.glb\"\n",
    "csv_file_path = \"/home/vanshika/Desktop/myntra.csv\""
   ]
  },
  {
   "cell_type": "code",
   "execution_count": 73,
   "id": "68db4d3d-188d-435b-9094-704c32074bbc",
   "metadata": {},
   "outputs": [],
   "source": [
    "\n",
    "# Fetch the GLB content\n",
    "glb_content = fetch_glb_content(glb_url)"
   ]
  },
  {
   "cell_type": "code",
   "execution_count": 75,
   "id": "28140202-0745-4875-8edc-e34ffd7ceb2e",
   "metadata": {},
   "outputs": [],
   "source": [
    "\n",
    "# Load and parse the GLB file from content\n",
    "gltf = load_glb_from_content(glb_content)"
   ]
  },
  {
   "cell_type": "code",
   "execution_count": 77,
   "id": "5f7eff8e-f458-4919-9216-f5b233595795",
   "metadata": {},
   "outputs": [],
   "source": [
    "\n",
    "# Extract features\n",
    "geometry = extract_geometry(gltf)\n",
    "textures, materials = extract_textures_and_colors(gltf)"
   ]
  },
  {
   "cell_type": "code",
   "execution_count": 79,
   "id": "7b3646e0-ef2b-4d64-a7f0-7a964b179a57",
   "metadata": {},
   "outputs": [],
   "source": [
    "\n",
    "# Save texture images\n",
    "desired_indices = [5, 8]\n",
    "extracted_texture_images = save_texture_images(gltf, desired_indices)"
   ]
  },
  {
   "cell_type": "code",
   "execution_count": 81,
   "id": "0a40172c-de61-47b1-b1ce-3c276ea9d436",
   "metadata": {},
   "outputs": [
    {
     "name": "stdout",
     "output_type": "stream",
     "text": [
      "<class 'pandas.core.frame.DataFrame'>\n",
      "RangeIndex: 100 entries, 0 to 99\n",
      "Data columns (total 11 columns):\n",
      " #   Column       Non-Null Count  Dtype  \n",
      "---  ------       --------------  -----  \n",
      " 0   id           100 non-null    int64  \n",
      " 1   name         100 non-null    object \n",
      " 2   img          100 non-null    object \n",
      " 3   asin         100 non-null    object \n",
      " 4   price        100 non-null    int64  \n",
      " 5   mrp          100 non-null    int64  \n",
      " 6   rating       100 non-null    float64\n",
      " 7   ratingTotal  100 non-null    int64  \n",
      " 8   discount     100 non-null    int64  \n",
      " 9   seller       100 non-null    object \n",
      " 10  purl         100 non-null    object \n",
      "dtypes: float64(1), int64(5), object(5)\n",
      "memory usage: 8.7+ KB\n",
      "Row 1 URL: https://assets.myntassets.com/f_webp,dpr_1.0,q_60,w_210,c_limit,fl_progressive/assets/images/16407468/2021/12/28/fce7ca1e-01ec-4c12-a90f-c7b75abda0e01640669480687-Difference-of-Opinion-Men-Tshirts-4021640669480120-1.jpg;\n",
      "https://assets.myntassets.com/f_webp,dpr_1.8,q_60,w_210,c_limit,fl_progressive/assets/images/16407468/2021/12/28/fce7ca1e-01ec-4c12-a90f-c7b75abda0e01640669480687-Difference-of-Opinion-Men-Tshirts-4021640669480120-1.jpg;\n",
      "https://assets.myntassets.com/f_webp,dpr_2.0,q_60,w_210,c_limit,fl_progressive/assets/images/16407468/2021/12/28/fce7ca1e-01ec-4c12-a90f-c7b75abda0e01640669480687-Difference-of-Opinion-Men-Tshirts-4021640669480120-1.jpg;\n",
      "https://assets.myntassets.com/f_webp,dpr_2.2,q_60,w_210,c_limit,fl_progressive/assets/images/16407468/2021/12/28/fce7ca1e-01ec-4c12-a90f-c7b75abda0e01640669480687-Difference-of-Opinion-Men-Tshirts-4021640669480120-1.jpg;\n",
      "https://assets.myntassets.com/f_webp,dpr_2.4,q_60,w_210,c_limit,fl_progressive/assets/images/16407468/2021/12/28/fce7ca1e-01ec-4c12-a90f-c7b75abda0e01640669480687-Difference-of-Opinion-Men-Tshirts-4021640669480120-1.jpg;\n",
      "https://assets.myntassets.com/f_webp,dpr_2.6,q_60,w_210,c_limit,fl_progressive/assets/images/16407468/2021/12/28/fce7ca1e-01ec-4c12-a90f-c7b75abda0e01640669480687-Difference-of-Opinion-Men-Tshirts-4021640669480120-1.jpg;\n",
      "https://assets.myntassets.com/f_webp,dpr_2.8,q_60,w_210,c_limit,fl_progressive/assets/images/16407468/2021/12/28/fce7ca1e-01ec-4c12-a90f-c7b75abda0e01640669480687-Difference-of-Opinion-Men-Tshirts-4021640669480120-1.jpg\n",
      "Row 2 URL: https://assets.myntassets.com/f_webp,dpr_1.0,q_60,w_210,c_limit,fl_progressive/assets/images/1996777/2022/11/22/336445a8-fa32-4396-914a-2629b49465d31669112704759RoadsterMenBlackCottonPureCottonT-shirt1.jpg;\n",
      "https://assets.myntassets.com/f_webp,dpr_1.8,q_60,w_210,c_limit,fl_progressive/assets/images/1996777/2022/11/22/336445a8-fa32-4396-914a-2629b49465d31669112704759RoadsterMenBlackCottonPureCottonT-shirt1.jpg;\n",
      "https://assets.myntassets.com/f_webp,dpr_2.0,q_60,w_210,c_limit,fl_progressive/assets/images/1996777/2022/11/22/336445a8-fa32-4396-914a-2629b49465d31669112704759RoadsterMenBlackCottonPureCottonT-shirt1.jpg;\n",
      "https://assets.myntassets.com/f_webp,dpr_2.2,q_60,w_210,c_limit,fl_progressive/assets/images/1996777/2022/11/22/336445a8-fa32-4396-914a-2629b49465d31669112704759RoadsterMenBlackCottonPureCottonT-shirt1.jpg;\n",
      "https://assets.myntassets.com/f_webp,dpr_2.4,q_60,w_210,c_limit,fl_progressive/assets/images/1996777/2022/11/22/336445a8-fa32-4396-914a-2629b49465d31669112704759RoadsterMenBlackCottonPureCottonT-shirt1.jpg;\n",
      "https://assets.myntassets.com/f_webp,dpr_2.6,q_60,w_210,c_limit,fl_progressive/assets/images/1996777/2022/11/22/336445a8-fa32-4396-914a-2629b49465d31669112704759RoadsterMenBlackCottonPureCottonT-shirt1.jpg;\n",
      "https://assets.myntassets.com/f_webp,dpr_2.8,q_60,w_210,c_limit,fl_progressive/assets/images/1996777/2022/11/22/336445a8-fa32-4396-914a-2629b49465d31669112704759RoadsterMenBlackCottonPureCottonT-shirt1.jpg\n",
      "Row 3 URL: https://assets.myntassets.com/f_webp,dpr_1.0,q_60,w_210,c_limit,fl_progressive/assets/images/15598180/2022/2/4/0cae0b47-0ae6-4bec-aa2f-a00a5624c3a11643957685405-DILLINGER-Women-Navy-Blue-Typography-Printed-Pure-Cotton-Loo-1.jpg;\n",
      "https://assets.myntassets.com/f_webp,dpr_1.8,q_60,w_210,c_limit,fl_progressive/assets/images/15598180/2022/2/4/0cae0b47-0ae6-4bec-aa2f-a00a5624c3a11643957685405-DILLINGER-Women-Navy-Blue-Typography-Printed-Pure-Cotton-Loo-1.jpg;\n",
      "https://assets.myntassets.com/f_webp,dpr_2.0,q_60,w_210,c_limit,fl_progressive/assets/images/15598180/2022/2/4/0cae0b47-0ae6-4bec-aa2f-a00a5624c3a11643957685405-DILLINGER-Women-Navy-Blue-Typography-Printed-Pure-Cotton-Loo-1.jpg;\n",
      "https://assets.myntassets.com/f_webp,dpr_2.2,q_60,w_210,c_limit,fl_progressive/assets/images/15598180/2022/2/4/0cae0b47-0ae6-4bec-aa2f-a00a5624c3a11643957685405-DILLINGER-Women-Navy-Blue-Typography-Printed-Pure-Cotton-Loo-1.jpg;\n",
      "https://assets.myntassets.com/f_webp,dpr_2.4,q_60,w_210,c_limit,fl_progressive/assets/images/15598180/2022/2/4/0cae0b47-0ae6-4bec-aa2f-a00a5624c3a11643957685405-DILLINGER-Women-Navy-Blue-Typography-Printed-Pure-Cotton-Loo-1.jpg;\n",
      "https://assets.myntassets.com/f_webp,dpr_2.6,q_60,w_210,c_limit,fl_progressive/assets/images/15598180/2022/2/4/0cae0b47-0ae6-4bec-aa2f-a00a5624c3a11643957685405-DILLINGER-Women-Navy-Blue-Typography-Printed-Pure-Cotton-Loo-1.jpg;\n",
      "https://assets.myntassets.com/f_webp,dpr_2.8,q_60,w_210,c_limit,fl_progressive/assets/images/15598180/2022/2/4/0cae0b47-0ae6-4bec-aa2f-a00a5624c3a11643957685405-DILLINGER-Women-Navy-Blue-Typography-Printed-Pure-Cotton-Loo-1.jpg\n",
      "Row 4 URL: https://assets.myntassets.com/f_webp,dpr_1.0,q_60,w_210,c_limit,fl_progressive/assets/images/productimage/2019/12/12/1aab2a18-6774-4f83-b292-fe301755a3351576102551329-1.jpg;\n",
      "https://assets.myntassets.com/f_webp,dpr_1.8,q_60,w_210,c_limit,fl_progressive/assets/images/productimage/2019/12/12/1aab2a18-6774-4f83-b292-fe301755a3351576102551329-1.jpg;\n",
      "https://assets.myntassets.com/f_webp,dpr_2.0,q_60,w_210,c_limit,fl_progressive/assets/images/productimage/2019/12/12/1aab2a18-6774-4f83-b292-fe301755a3351576102551329-1.jpg;\n",
      "https://assets.myntassets.com/f_webp,dpr_2.2,q_60,w_210,c_limit,fl_progressive/assets/images/productimage/2019/12/12/1aab2a18-6774-4f83-b292-fe301755a3351576102551329-1.jpg;\n",
      "https://assets.myntassets.com/f_webp,dpr_2.4,q_60,w_210,c_limit,fl_progressive/assets/images/productimage/2019/12/12/1aab2a18-6774-4f83-b292-fe301755a3351576102551329-1.jpg;\n",
      "https://assets.myntassets.com/f_webp,dpr_2.6,q_60,w_210,c_limit,fl_progressive/assets/images/productimage/2019/12/12/1aab2a18-6774-4f83-b292-fe301755a3351576102551329-1.jpg;\n",
      "https://assets.myntassets.com/f_webp,dpr_2.8,q_60,w_210,c_limit,fl_progressive/assets/images/productimage/2019/12/12/1aab2a18-6774-4f83-b292-fe301755a3351576102551329-1.jpg\n",
      "Row 5 URL: https://assets.myntassets.com/f_webp,dpr_1.0,q_60,w_210,c_limit,fl_progressive/assets/images/11545192/2022/3/25/626b0419-cbb0-4200-8490-67e20a0021c51648208612203-Roadster-Men-Green--White-Printed-Round-Neck-Pure-Cotton-T-s-1.jpg;\n",
      "https://assets.myntassets.com/f_webp,dpr_1.8,q_60,w_210,c_limit,fl_progressive/assets/images/11545192/2022/3/25/626b0419-cbb0-4200-8490-67e20a0021c51648208612203-Roadster-Men-Green--White-Printed-Round-Neck-Pure-Cotton-T-s-1.jpg;\n",
      "https://assets.myntassets.com/f_webp,dpr_2.0,q_60,w_210,c_limit,fl_progressive/assets/images/11545192/2022/3/25/626b0419-cbb0-4200-8490-67e20a0021c51648208612203-Roadster-Men-Green--White-Printed-Round-Neck-Pure-Cotton-T-s-1.jpg;\n",
      "https://assets.myntassets.com/f_webp,dpr_2.2,q_60,w_210,c_limit,fl_progressive/assets/images/11545192/2022/3/25/626b0419-cbb0-4200-8490-67e20a0021c51648208612203-Roadster-Men-Green--White-Printed-Round-Neck-Pure-Cotton-T-s-1.jpg;\n",
      "https://assets.myntassets.com/f_webp,dpr_2.4,q_60,w_210,c_limit,fl_progressive/assets/images/11545192/2022/3/25/626b0419-cbb0-4200-8490-67e20a0021c51648208612203-Roadster-Men-Green--White-Printed-Round-Neck-Pure-Cotton-T-s-1.jpg;\n",
      "https://assets.myntassets.com/f_webp,dpr_2.6,q_60,w_210,c_limit,fl_progressive/assets/images/11545192/2022/3/25/626b0419-cbb0-4200-8490-67e20a0021c51648208612203-Roadster-Men-Green--White-Printed-Round-Neck-Pure-Cotton-T-s-1.jpg;\n",
      "https://assets.myntassets.com/f_webp,dpr_2.8,q_60,w_210,c_limit,fl_progressive/assets/images/11545192/2022/3/25/626b0419-cbb0-4200-8490-67e20a0021c51648208612203-Roadster-Men-Green--White-Printed-Round-Neck-Pure-Cotton-T-s-1.jpg\n"
     ]
    }
   ],
   "source": [
    "# Load the CSV file\n",
    "df = pd.read_csv('/home/vanshika/Desktop/myntra.csv', nrows=100)\n",
    "df.info()\n",
    "df.head()\n",
    "for index, row in df.iterrows():\n",
    "    print(f\"Row {index + 1} URL: {row['img']}\")\n",
    "    if index >= 4:  # Change this number to print more or fewer rows\n",
    "        break"
   ]
  },
  {
   "cell_type": "code",
   "execution_count": 83,
   "id": "51995445-2b05-4ebb-a7a3-e116caa0b769",
   "metadata": {},
   "outputs": [],
   "source": [
    "# Compare extracted textures with images in the CSV\n",
    "best_match = None\n",
    "best_score = float('-inf')"
   ]
  },
  {
   "cell_type": "code",
   "execution_count": 85,
   "id": "0cd73134-e0ec-42da-b40b-36b2a4f92454",
   "metadata": {},
   "outputs": [],
   "source": [
    "\n",
    "def fetch_image_from_url(url):\n",
    "    try:\n",
    "        response = requests.get(url)\n",
    "        response.raise_for_status()  # Raise HTTPError for bad responses\n",
    "        image = Image.open(BytesIO(response.content))\n",
    "        return image\n",
    "    except requests.exceptions.RequestException as e:\n",
    "        print(f\"Error fetching image from URL {url}: {e}\")\n",
    "        return None"
   ]
  },
  {
   "cell_type": "code",
   "execution_count": 87,
   "id": "05538c1e-c8f4-4d5f-b716-ec29374ee8f3",
   "metadata": {},
   "outputs": [
    {
     "name": "stdout",
     "output_type": "stream",
     "text": [
      "No match found, but giving the highest scored match:\n",
      "None\n",
      "Similarity Score: -inf\n"
     ]
    }
   ],
   "source": [
    "# Output the best match\n",
    "if best_match is not None:\n",
    "    print(\"Best Match:\")\n",
    "    print(best_match)\n",
    "    print(f\"Similarity Score: {best_score}\")\n",
    "else:\n",
    "    print(\"No match found, but giving the highest scored match:\")\n",
    "    print(best_match)\n",
    "    print(f\"Similarity Score: {best_score}\")"
   ]
  },
  {
   "cell_type": "code",
   "execution_count": null,
   "id": "18aaf0ae-6b25-46c4-a12d-59c4b27d0da9",
   "metadata": {},
   "outputs": [],
   "source": []
  }
 ],
 "metadata": {
  "kernelspec": {
   "display_name": "Python 3 (ipykernel)",
   "language": "python",
   "name": "python3"
  },
  "language_info": {
   "codemirror_mode": {
    "name": "ipython",
    "version": 3
   },
   "file_extension": ".py",
   "mimetype": "text/x-python",
   "name": "python",
   "nbconvert_exporter": "python",
   "pygments_lexer": "ipython3",
   "version": "3.11.7"
  }
 },
 "nbformat": 4,
 "nbformat_minor": 5
}
